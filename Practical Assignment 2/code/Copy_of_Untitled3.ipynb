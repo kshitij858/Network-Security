{
  "nbformat": 4,
  "nbformat_minor": 0,
  "metadata": {
    "colab": {
      "name": "Copy of Untitled3.ipynb",
      "provenance": [],
      "collapsed_sections": []
    },
    "kernelspec": {
      "name": "python3",
      "display_name": "Python 3"
    },
    "language_info": {
      "name": "python"
    }
  },
  "cells": [
    {
      "cell_type": "code",
      "execution_count": 2,
      "metadata": {
        "id": "_vGQm3_mLQ3u"
      },
      "outputs": [],
      "source": [
        "import matplotlib.pyplot as plt\n",
        "import numpy as np"
      ]
    },
    {
      "cell_type": "code",
      "source": [
        "def hex2bin(s):\n",
        "\tmp = {'0' : \"0000\",\n",
        "\t\t'1' : \"0001\",\n",
        "\t\t'2' : \"0010\",\n",
        "\t\t'3' : \"0011\",\n",
        "\t\t'4' : \"0100\",\n",
        "\t\t'5' : \"0101\",\n",
        "\t\t'6' : \"0110\",\n",
        "\t\t'7' : \"0111\",\n",
        "\t\t'8' : \"1000\",\n",
        "\t\t'9' : \"1001\",\n",
        "\t\t'A' : \"1010\",\n",
        "\t\t'B' : \"1011\",\n",
        "\t\t'C' : \"1100\",\n",
        "\t\t'D' : \"1101\",\n",
        "\t\t'E' : \"1110\",\n",
        "\t\t'F' : \"1111\" }\n",
        "\tbin = \"\"\n",
        "\tfor i in range(len(s)):\n",
        "\t\tbin = bin + mp[s[i]]\n",
        "\treturn bin"
      ],
      "metadata": {
        "id": "4AqfYLEVLUcz"
      },
      "execution_count": 3,
      "outputs": []
    },
    {
      "cell_type": "code",
      "source": [
        "def bin2hex(s):\n",
        "\tmp = {\"0000\" : '0',\n",
        "\t\t\"0001\" : '1',\n",
        "\t\t\"0010\" : '2',\n",
        "\t\t\"0011\" : '3',\n",
        "\t\t\"0100\" : '4',\n",
        "\t\t\"0101\" : '5',\n",
        "\t\t\"0110\" : '6',\n",
        "\t\t\"0111\" : '7',\n",
        "\t\t\"1000\" : '8',\n",
        "\t\t\"1001\" : '9',\n",
        "\t\t\"1010\" : 'A',\n",
        "\t\t\"1011\" : 'B',\n",
        "\t\t\"1100\" : 'C',\n",
        "\t\t\"1101\" : 'D',\n",
        "\t\t\"1110\" : 'E',\n",
        "\t\t\"1111\" : 'F' }\n",
        "\thex = \"\"\n",
        "\tfor i in range(0,len(s),4):\n",
        "\t\tch = \"\"\n",
        "\t\tch = ch + s[i]\n",
        "\t\tch = ch + s[i + 1]\n",
        "\t\tch = ch + s[i + 2]\n",
        "\t\tch = ch + s[i + 3]\n",
        "\t\thex = hex + mp[ch]\n",
        "\t\t\n",
        "\treturn hex"
      ],
      "metadata": {
        "id": "je72YFUVLXNK"
      },
      "execution_count": 4,
      "outputs": []
    },
    {
      "cell_type": "code",
      "source": [
        "def bin2dec(binary):\n",
        "\t\n",
        "\tbinary1 = binary\n",
        "\tdecimal, i, n = 0, 0, 0\n",
        "\twhile(binary != 0):\n",
        "\t\tdec = binary % 10\n",
        "\t\tdecimal = decimal + dec * pow(2, i)\n",
        "\t\tbinary = binary//10\n",
        "\t\ti += 1\n",
        "\treturn decimal"
      ],
      "metadata": {
        "id": "h6GXwv7TLafL"
      },
      "execution_count": 5,
      "outputs": []
    },
    {
      "cell_type": "code",
      "source": [
        "def dec2bin(num):\n",
        "\tres = bin(num).replace(\"0b\", \"\")\n",
        "\tif(len(res)%4 != 0):\n",
        "\t\tdiv = len(res) / 4\n",
        "\t\tdiv = int(div)\n",
        "\t\tcounter =(4 * (div + 1)) - len(res)\n",
        "\t\tfor i in range(0, counter):\n",
        "\t\t\tres = '0' + res\n",
        "\treturn res"
      ],
      "metadata": {
        "id": "TZHWZMIdLdBg"
      },
      "execution_count": 6,
      "outputs": []
    },
    {
      "cell_type": "code",
      "source": [
        "def permute(k, arr, n):\n",
        "\tpermutation = \"\"\n",
        "\tfor i in range(0, n):\n",
        "\t\tpermutation = permutation + k[arr[i] - 1]\n",
        "\treturn permutation"
      ],
      "metadata": {
        "id": "D18EXBzALf4a"
      },
      "execution_count": 7,
      "outputs": []
    },
    {
      "cell_type": "code",
      "source": [
        "def shift_left(k, nth_shifts):\n",
        "\ts = \"\"\n",
        "\tfor i in range(nth_shifts):\n",
        "\t\tfor j in range(1,len(k)):\n",
        "\t\t\ts = s + k[j]\n",
        "\t\ts = s + k[0]\n",
        "\t\tk = s\n",
        "\t\ts = \"\"\n",
        "\treturn k"
      ],
      "metadata": {
        "id": "vXh47IAzLib-"
      },
      "execution_count": 8,
      "outputs": []
    },
    {
      "cell_type": "code",
      "source": [
        "def xor(a, b):\n",
        "\tans = \"\"\n",
        "\tfor i in range(len(a)):\n",
        "\t\tif a[i] == b[i]:\n",
        "\t\t\tans = ans + \"0\"\n",
        "\t\telse:\n",
        "\t\t\tans = ans + \"1\"\n",
        "\treturn ans"
      ],
      "metadata": {
        "id": "x8xnbT7XLlDV"
      },
      "execution_count": 9,
      "outputs": []
    },
    {
      "cell_type": "code",
      "source": [
        "initial_perm = [58, 50, 42, 34, 26, 18, 10, 2,\n",
        "\t\t\t\t60, 52, 44, 36, 28, 20, 12, 4,\n",
        "\t\t\t\t62, 54, 46, 38, 30, 22, 14, 6,\n",
        "\t\t\t\t64, 56, 48, 40, 32, 24, 16, 8,\n",
        "\t\t\t\t57, 49, 41, 33, 25, 17, 9, 1,\n",
        "\t\t\t\t59, 51, 43, 35, 27, 19, 11, 3,\n",
        "\t\t\t\t61, 53, 45, 37, 29, 21, 13, 5,\n",
        "\t\t\t\t63, 55, 47, 39, 31, 23, 15, 7]\n",
        "\n",
        "\n",
        "exp_d = [32, 1 , 2 , 3 , 4 , 5 , 4 , 5,\n",
        "\t\t6 , 7 , 8 , 9 , 8 , 9 , 10, 11,\n",
        "\t\t12, 13, 12, 13, 14, 15, 16, 17,\n",
        "\t\t16, 17, 18, 19, 20, 21, 20, 21,\n",
        "\t\t22, 23, 24, 25, 24, 25, 26, 27,\n",
        "\t\t28, 29, 28, 29, 30, 31, 32, 1 ]\n",
        "\n",
        "\n",
        "per = [ 16, 7, 20, 21,\n",
        "\t\t29, 12, 28, 17,\n",
        "\t\t1, 15, 23, 26,\n",
        "\t\t5, 18, 31, 10,\n",
        "\t\t2, 8, 24, 14,\n",
        "\t\t32, 27, 3, 9,\n",
        "\t\t19, 13, 30, 6,\n",
        "\t\t22, 11, 4, 25 ]\n",
        "\n",
        "\n",
        "sbox = [[[14, 4, 13, 1, 2, 15, 11, 8, 3, 10, 6, 12, 5, 9, 0, 7],\n",
        "\t\t[ 0, 15, 7, 4, 14, 2, 13, 1, 10, 6, 12, 11, 9, 5, 3, 8],\n",
        "\t\t[ 4, 1, 14, 8, 13, 6, 2, 11, 15, 12, 9, 7, 3, 10, 5, 0],\n",
        "\t\t[15, 12, 8, 2, 4, 9, 1, 7, 5, 11, 3, 14, 10, 0, 6, 13 ]],\n",
        "\t\t\t\n",
        "\t\t[[15, 1, 8, 14, 6, 11, 3, 4, 9, 7, 2, 13, 12, 0, 5, 10],\n",
        "\t\t\t[3, 13, 4, 7, 15, 2, 8, 14, 12, 0, 1, 10, 6, 9, 11, 5],\n",
        "\t\t\t[0, 14, 7, 11, 10, 4, 13, 1, 5, 8, 12, 6, 9, 3, 2, 15],\n",
        "\t\t[13, 8, 10, 1, 3, 15, 4, 2, 11, 6, 7, 12, 0, 5, 14, 9 ]],\n",
        "\n",
        "\t\t[ [10, 0, 9, 14, 6, 3, 15, 5, 1, 13, 12, 7, 11, 4, 2, 8],\n",
        "\t\t[13, 7, 0, 9, 3, 4, 6, 10, 2, 8, 5, 14, 12, 11, 15, 1],\n",
        "\t\t[13, 6, 4, 9, 8, 15, 3, 0, 11, 1, 2, 12, 5, 10, 14, 7],\n",
        "\t\t\t[1, 10, 13, 0, 6, 9, 8, 7, 4, 15, 14, 3, 11, 5, 2, 12 ]],\n",
        "\t\n",
        "\t\t[ [7, 13, 14, 3, 0, 6, 9, 10, 1, 2, 8, 5, 11, 12, 4, 15],\n",
        "\t\t[13, 8, 11, 5, 6, 15, 0, 3, 4, 7, 2, 12, 1, 10, 14, 9],\n",
        "\t\t[10, 6, 9, 0, 12, 11, 7, 13, 15, 1, 3, 14, 5, 2, 8, 4],\n",
        "\t\t\t[3, 15, 0, 6, 10, 1, 13, 8, 9, 4, 5, 11, 12, 7, 2, 14] ],\n",
        "\t\t\n",
        "\t\t[ [2, 12, 4, 1, 7, 10, 11, 6, 8, 5, 3, 15, 13, 0, 14, 9],\n",
        "\t\t[14, 11, 2, 12, 4, 7, 13, 1, 5, 0, 15, 10, 3, 9, 8, 6],\n",
        "\t\t\t[4, 2, 1, 11, 10, 13, 7, 8, 15, 9, 12, 5, 6, 3, 0, 14],\n",
        "\t\t[11, 8, 12, 7, 1, 14, 2, 13, 6, 15, 0, 9, 10, 4, 5, 3 ]],\n",
        "\t\n",
        "\t\t[ [12, 1, 10, 15, 9, 2, 6, 8, 0, 13, 3, 4, 14, 7, 5, 11],\n",
        "\t\t[10, 15, 4, 2, 7, 12, 9, 5, 6, 1, 13, 14, 0, 11, 3, 8],\n",
        "\t\t\t[9, 14, 15, 5, 2, 8, 12, 3, 7, 0, 4, 10, 1, 13, 11, 6],\n",
        "\t\t\t[4, 3, 2, 12, 9, 5, 15, 10, 11, 14, 1, 7, 6, 0, 8, 13] ],\n",
        "\t\t\n",
        "\t\t[ [4, 11, 2, 14, 15, 0, 8, 13, 3, 12, 9, 7, 5, 10, 6, 1],\n",
        "\t\t[13, 0, 11, 7, 4, 9, 1, 10, 14, 3, 5, 12, 2, 15, 8, 6],\n",
        "\t\t\t[1, 4, 11, 13, 12, 3, 7, 14, 10, 15, 6, 8, 0, 5, 9, 2],\n",
        "\t\t\t[6, 11, 13, 8, 1, 4, 10, 7, 9, 5, 0, 15, 14, 2, 3, 12] ],\n",
        "\t\t\n",
        "\t\t[ [13, 2, 8, 4, 6, 15, 11, 1, 10, 9, 3, 14, 5, 0, 12, 7],\n",
        "\t\t\t[1, 15, 13, 8, 10, 3, 7, 4, 12, 5, 6, 11, 0, 14, 9, 2],\n",
        "\t\t\t[7, 11, 4, 1, 9, 12, 14, 2, 0, 6, 10, 13, 15, 3, 5, 8],\n",
        "\t\t\t[2, 1, 14, 7, 4, 10, 8, 13, 15, 12, 9, 0, 3, 5, 6, 11] ] ]\n",
        "\n",
        "\n",
        "final_perm = [ 40, 8, 48, 16, 56, 24, 64, 32,\n",
        "\t\t\t39, 7, 47, 15, 55, 23, 63, 31,\n",
        "\t\t\t38, 6, 46, 14, 54, 22, 62, 30,\n",
        "\t\t\t37, 5, 45, 13, 53, 21, 61, 29,\n",
        "\t\t\t36, 4, 44, 12, 52, 20, 60, 28,\n",
        "\t\t\t35, 3, 43, 11, 51, 19, 59, 27,\n",
        "\t\t\t34, 2, 42, 10, 50, 18, 58, 26,\n",
        "\t\t\t33, 1, 41, 9, 49, 17, 57, 25 ]"
      ],
      "metadata": {
        "id": "ivM8fJJpLnY6"
      },
      "execution_count": 10,
      "outputs": []
    },
    {
      "cell_type": "code",
      "source": [
        "def encrypt(pt, rkb, rk):\n",
        "\tpt = hex2bin(pt)\n",
        "\n",
        "\tpt = permute(pt, initial_perm, 64)\n",
        "\tl=[]\n",
        "\tleft = pt[0:32]\n",
        "\tright = pt[32:64]\n",
        "\tfor i in range(0, 16):\n",
        "\t\tright_expanded = permute(right, exp_d, 48)\n",
        "\t\t\n",
        "\t\txor_x = xor(right_expanded, rkb[i])\n",
        "\n",
        "\t\tsbox_str = \"\"\n",
        "\t\tfor j in range(0, 8):\n",
        "\t\t\trow = bin2dec(int(xor_x[j * 6] + xor_x[j * 6 + 5]))\n",
        "\t\t\tcol = bin2dec(int(xor_x[j * 6 + 1] + xor_x[j * 6 + 2] + xor_x[j * 6 + 3] + xor_x[j * 6 + 4]))\n",
        "\t\t\tval = sbox[j][row][col]\n",
        "\t\t\tsbox_str = sbox_str + dec2bin(val)\n",
        "\n",
        "\t\tsbox_str = permute(sbox_str, per, 32)\n",
        "\n",
        "\t\tresult = xor(left, sbox_str)\n",
        "\t\tleft = result\n",
        "\n",
        "\t\tif(i != 15):\n",
        "\t\t\tleft, right = right, left\n",
        "\t\tl.append(left+right)\n",
        "\t\n",
        "\n",
        "\tcombine = left + right\n",
        "\n",
        "\tcipher_text = permute(combine, final_perm, 64)\n",
        "\treturn l\n"
      ],
      "metadata": {
        "id": "U6Sl6vm4Lz-M"
      },
      "execution_count": 11,
      "outputs": []
    },
    {
      "cell_type": "code",
      "source": [
        "def hd(s,t):\n",
        "\tc=0\n",
        "\tfor x,y in zip(s,t):\n",
        "\t\tif( x !=y ):\n",
        "\t\t\tc=c+1\n",
        "\treturn c"
      ],
      "metadata": {
        "id": "w2P63sc9L4Rv"
      },
      "execution_count": 12,
      "outputs": []
    },
    {
      "cell_type": "code",
      "source": [
        "pt = [\"3410762BCA1D223C\",\"3410762BCA1D223D\",\"3410762BCA1D223E\",\"3410762BCA1D223F\",\"3410762BCA1D227C\"]\n",
        "key = \"CCBB09182736CCDD\"\n",
        "opt = \"3410762BCA1D223A\"\n",
        "\n",
        "\n",
        "key = hex2bin(key)\n",
        "\n",
        "\n",
        "key_per = [57, 49, 41, 33, 25, 17, 9,\n",
        "\t\t1, 58, 50, 42, 34, 26, 18,\n",
        "\t\t10, 2, 59, 51, 43, 35, 27,\n",
        "\t\t19, 11, 3, 60, 52, 44, 36,\n",
        "\t\t63, 55, 47, 39, 31, 23, 15,\n",
        "\t\t7, 62, 54, 46, 38, 30, 22,\n",
        "\t\t14, 6, 61, 53, 45, 37, 29,\n",
        "\t\t21, 13, 5, 28, 20, 12, 4 ]\n",
        "\n",
        "\n",
        "key = permute(key, key_per, 56)\n",
        "\n",
        "\n",
        "shift_table = [1, 1, 2, 2,\n",
        "\t\t\t\t2, 2, 2, 2,\n",
        "\t\t\t\t1, 2, 2, 2,\n",
        "\t\t\t\t2, 2, 2, 1 ]\n",
        "\n",
        "key_comp = [14, 17, 11, 24, 1, 5,\n",
        "\t\t\t3, 28, 15, 6, 21, 10,\n",
        "\t\t\t23, 19, 12, 4, 26, 8,\n",
        "\t\t\t16, 7, 27, 20, 13, 2,\n",
        "\t\t\t41, 52, 31, 37, 47, 55,\n",
        "\t\t\t30, 40, 51, 45, 33, 48,\n",
        "\t\t\t44, 49, 39, 56, 34, 53,\n",
        "\t\t\t46, 42, 50, 36, 29, 32 ]\n",
        "\n",
        "left = key[0:28] \n",
        "right = key[28:56]\n",
        "\n",
        "rkb = []\n",
        "rk = []\n",
        "for i in range(0, 16):\n",
        "\n",
        "\tleft = shift_left(left, shift_table[i])\n",
        "\tright = shift_left(right, shift_table[i])\n",
        "\n",
        "\tcombine_str = left + right\n",
        "\t\n",
        "\tround_key = permute(combine_str, key_comp, 48)\n",
        "\n",
        "\trkb.append(round_key)\n",
        "\trk.append(bin2hex(round_key))\n",
        "\n",
        "mat=[]\n",
        "for i in range(16):\n",
        "  mat.append([])\n",
        "\n",
        "for x in pt:\n",
        "\tl2 = []\n",
        "\tl = encrypt(x, rkb, rk)\n",
        "\tfor y in l:\n",
        "\t\tl2.append(hd(opt,bin2hex(y)))\n",
        "\tfor i in range(16):\n",
        "\t\tmat[i].append(l2[i])\n",
        "\n",
        "plt.boxplot(mat)\n",
        "plt.title('Avalanche Effect on DES Rounds')\n",
        "plt.xlabel('DES Rounds')\n",
        "plt.ylabel('Hamming Distance')\n",
        "plt.ylim(10,17)\n",
        "plt.show()"
      ],
      "metadata": {
        "colab": {
          "base_uri": "https://localhost:8080/",
          "height": 295
        },
        "id": "6ySVyP6CL80_",
        "outputId": "ee8e3b7a-e585-4ad1-b669-572fb2020555"
      },
      "execution_count": 17,
      "outputs": [
        {
          "output_type": "display_data",
          "data": {
            "image/png": "[encoded data removed]",
            "text/plain": [
              "<Figure size 432x288 with 1 Axes>"
            ]
          },
          "metadata": {
            "needs_background": "light"
          }
        }
      ]
    },
    {
      "cell_type": "code",
      "source": [
        "pt = [\"53310762BCA1D223A\",\"653410762BCA1D223A\",\"6410862BCA1D223A\",\"45410762FCA1D223A\",\"83410762BCA1D223F\"]\n",
        "key = \"CCBB09182736CCDD\"\n",
        "opt = \"43410762BCA1D223A\"\n",
        "\n",
        "\n",
        "key = hex2bin(key)\n",
        "\n",
        "\n",
        "key_per = [57, 49, 41, 33, 25, 17, 9,\n",
        "\t\t1, 58, 50, 42, 34, 26, 18,\n",
        "\t\t10, 2, 59, 51, 43, 35, 27,\n",
        "\t\t19, 11, 3, 60, 52, 44, 36,\n",
        "\t\t63, 55, 47, 39, 31, 23, 15,\n",
        "\t\t7, 62, 54, 46, 38, 30, 22,\n",
        "\t\t14, 6, 61, 53, 45, 37, 29,\n",
        "\t\t21, 13, 5, 28, 20, 12, 4 ]\n",
        "\n",
        "\n",
        "key = permute(key, key_per, 56)\n",
        "\n",
        "\n",
        "shift_table = [1, 1, 2, 2,\n",
        "\t\t\t\t2, 2, 2, 2,\n",
        "\t\t\t\t1, 2, 2, 2,\n",
        "\t\t\t\t2, 2, 2, 1 ]\n",
        "\n",
        "key_comp = [14, 17, 11, 24, 1, 5,\n",
        "\t\t\t3, 28, 15, 6, 21, 10,\n",
        "\t\t\t23, 19, 12, 4, 26, 8,\n",
        "\t\t\t16, 7, 27, 20, 13, 2,\n",
        "\t\t\t41, 52, 31, 37, 47, 55,\n",
        "\t\t\t30, 40, 51, 45, 33, 48,\n",
        "\t\t\t44, 49, 39, 56, 34, 53,\n",
        "\t\t\t46, 42, 50, 36, 29, 32 ]\n",
        "\n",
        "left = key[0:28] \n",
        "right = key[28:56]\n",
        "\n",
        "rkb = []\n",
        "rk = []\n",
        "for i in range(0, 16):\n",
        "\n",
        "\tleft = shift_left(left, shift_table[i])\n",
        "\tright = shift_left(right, shift_table[i])\n",
        "\n",
        "\tcombine_str = left + right\n",
        "\t\n",
        "\tround_key = permute(combine_str, key_comp, 48)\n",
        "\n",
        "\trkb.append(round_key)\n",
        "\trk.append(bin2hex(round_key))\n",
        "\n",
        "mat=[]\n",
        "for i in range(16):\n",
        "  mat.append([])\n",
        "\n",
        "for x in pt:\n",
        "\tl2 = []\n",
        "\tl = encrypt(x, rkb, rk)\n",
        "\tfor y in l:\n",
        "\t\tl2.append(hd(opt,bin2hex(y)))\n",
        "\tfor i in range(16):\n",
        "\t\tmat[i].append(l2[i])\n",
        "\n",
        "plt.boxplot(mat)\n",
        "plt.title('Avalanche Effect on DES Rounds')\n",
        "plt.xlabel('DES Rounds')\n",
        "plt.ylabel('Hamming Distance')\n",
        "plt.ylim(10,17)\n",
        "plt.show()"
      ],
      "metadata": {
        "colab": {
          "base_uri": "https://localhost:8080/",
          "height": 295
        },
        "id": "VLyrhmWGMQJx",
        "outputId": "5b43fc4e-78bf-4ac1-e245-15c186a3ebac"
      },
      "execution_count": 18,
      "outputs": [
        {
          "output_type": "display_data",
          "data": {
            "image/png": "[encoded data removed]",
            "text/plain": [
              "<Figure size 432x288 with 1 Axes>"
            ]
          },
          "metadata": {
            "needs_background": "light"
          }
        }
      ]
    },
    {
      "cell_type": "code",
      "source": [
        "pt = \"ABC1762BCA1D223A\"\n",
        "okey = \"4271A0C2A851A62B\"\n",
        "lkey = [\"5271A0C2A851A62B\",\"4271A0C2A851A62F\",\"4271A0C2A851A62B\",\"4271A0C2A851A62D\",\"4271A0C2A851A62C\"]\n",
        "\n",
        "mat=[]\n",
        "for i in range(16):\n",
        "  mat.append([])\n",
        "\n",
        "for key in lkey:\n",
        "  key = hex2bin(key)\n",
        "\n",
        "  key_per = [57, 49, 41, 33, 25, 17, 9,\n",
        "      1, 58, 50, 42, 34, 26, 18,\n",
        "      10, 2, 59, 51, 43, 35, 27,\n",
        "      19, 11, 3, 60, 52, 44, 36,\n",
        "      63, 55, 47, 39, 31, 23, 15,\n",
        "      7, 62, 54, 46, 38, 30, 22,\n",
        "      14, 6, 61, 53, 45, 37, 29,\n",
        "      21, 13, 5, 28, 20, 12, 4 ]\n",
        "\n",
        "\n",
        "  key = permute(key, key_per, 56)\n",
        "\n",
        "\n",
        "  shift_table = [1, 1, 2, 2,\n",
        "          2, 2, 2, 2,\n",
        "          1, 2, 2, 2,\n",
        "          2, 2, 2, 1 ]\n",
        "\n",
        "  key_compression = [14, 17, 11, 24, 1, 5,\n",
        "        3, 28, 15, 6, 21, 10,\n",
        "        23, 19, 12, 4, 26, 8,\n",
        "        16, 7, 27, 20, 13, 2,\n",
        "        41, 52, 31, 37, 47, 55,\n",
        "        30, 40, 51, 45, 33, 48,\n",
        "        44, 49, 39, 56, 34, 53,\n",
        "        46, 42, 50, 36, 29, 32 ]\n",
        "\n",
        "  left = key[0:28] \n",
        "  right = key[28:56]\n",
        "\n",
        "  rkb = []\n",
        "  rk = []\n",
        "  for i in range(0, 16):\n",
        "    left = shift_left(left, shift_table[i])\n",
        "    right = shift_left(right, shift_table[i])\n",
        "\n",
        "    complete_string = left + right\n",
        "    \n",
        "    round_key = permute(complete_string, key_compression, 48)\n",
        "\n",
        "    rkb.append(round_key)\n",
        "    rk.append(bin2hex(round_key))\n",
        "  l0 = encrypt(pt, rkb, rk)\n",
        "  l1 = []\n",
        "  for y in l0:\n",
        "    l1.append(hd(okey,bin2hex(y)))\n",
        "  for i in range(16):\n",
        "    mat[i].append(l1[i])\n",
        "\n",
        "\n",
        "\n",
        "plt.boxplot(mat)\n",
        "plt.title('Avalanche Effect on DES Rounds')\n",
        "plt.xlabel('DES Rounds')\n",
        "plt.ylabel('Hamming Distance')\n",
        "plt.ylim(10,17)\n",
        "plt.show()"
      ],
      "metadata": {
        "colab": {
          "base_uri": "https://localhost:8080/",
          "height": 295
        },
        "id": "19WEP0yyMUbu",
        "outputId": "93f2f369-c54c-42c6-cf05-74cdd73af60e"
      },
      "execution_count": 16,
      "outputs": [
        {
          "output_type": "display_data",
          "data": {
            "image/png": "[encoded data removed]",
            "text/plain": [
              "<Figure size 432x288 with 1 Axes>"
            ]
          },
          "metadata": {
            "needs_background": "light"
          }
        }
      ]
    }
  ]
}